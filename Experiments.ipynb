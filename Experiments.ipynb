{
 "cells": [
  {
   "cell_type": "code",
   "execution_count": 1,
   "metadata": {},
   "outputs": [
    {
     "name": "stderr",
     "output_type": "stream",
     "text": [
      "/Users/anthonyruizcalvo/Documents/Applications/lumaa-spring-2025-ai-ml/.venv/lib/python3.9/site-packages/urllib3/__init__.py:35: NotOpenSSLWarning: urllib3 v2 only supports OpenSSL 1.1.1+, currently the 'ssl' module is compiled with 'LibreSSL 2.8.3'. See: https://github.com/urllib3/urllib3/issues/3020\n",
      "  warnings.warn(\n"
     ]
    }
   ],
   "source": [
    "import numpy as np\n",
    "import pandas as pd\n",
    "from sklearn.feature_extraction.text import TfidfVectorizer\n",
    "from sklearn.metrics.pairwise import cosine_similarity\n",
    "from langchain_huggingface import HuggingFaceEmbeddings\n",
    "import json\n",
    "import pickle\n"
   ]
  },
  {
   "cell_type": "code",
   "execution_count": 2,
   "metadata": {},
   "outputs": [
    {
     "name": "stdout",
     "output_type": "stream",
     "text": [
      "<class 'pandas.core.frame.DataFrame'>\n",
      "RangeIndex: 4803 entries, 0 to 4802\n",
      "Data columns (total 24 columns):\n",
      " #   Column                Non-Null Count  Dtype  \n",
      "---  ------                --------------  -----  \n",
      " 0   index                 4803 non-null   int64  \n",
      " 1   budget                4803 non-null   int64  \n",
      " 2   genres                4775 non-null   object \n",
      " 3   homepage              1712 non-null   object \n",
      " 4   id                    4803 non-null   int64  \n",
      " 5   keywords              4391 non-null   object \n",
      " 6   original_language     4803 non-null   object \n",
      " 7   original_title        4803 non-null   object \n",
      " 8   overview              4800 non-null   object \n",
      " 9   popularity            4803 non-null   float64\n",
      " 10  production_companies  4803 non-null   object \n",
      " 11  production_countries  4803 non-null   object \n",
      " 12  release_date          4802 non-null   object \n",
      " 13  revenue               4803 non-null   int64  \n",
      " 14  runtime               4801 non-null   float64\n",
      " 15  spoken_languages      4803 non-null   object \n",
      " 16  status                4803 non-null   object \n",
      " 17  tagline               3959 non-null   object \n",
      " 18  title                 4803 non-null   object \n",
      " 19  vote_average          4803 non-null   float64\n",
      " 20  vote_count            4803 non-null   int64  \n",
      " 21  cast                  4760 non-null   object \n",
      " 22  crew                  4803 non-null   object \n",
      " 23  director              4773 non-null   object \n",
      "dtypes: float64(3), int64(5), object(16)\n",
      "memory usage: 900.7+ KB\n",
      "   index     budget                                    genres  \\\n",
      "0      0  237000000  Action Adventure Fantasy Science Fiction   \n",
      "1      1  300000000                  Adventure Fantasy Action   \n",
      "2      2  245000000                    Action Adventure Crime   \n",
      "3      3  250000000               Action Crime Drama Thriller   \n",
      "4      4  260000000          Action Adventure Science Fiction   \n",
      "\n",
      "                                       homepage      id  \\\n",
      "0                   http://www.avatarmovie.com/   19995   \n",
      "1  http://disney.go.com/disneypictures/pirates/     285   \n",
      "2   http://www.sonypictures.com/movies/spectre/  206647   \n",
      "3            http://www.thedarkknightrises.com/   49026   \n",
      "4          http://movies.disney.com/john-carter   49529   \n",
      "\n",
      "                                            keywords original_language  \\\n",
      "0  culture clash future space war space colony so...                en   \n",
      "1  ocean drug abuse exotic island east india trad...                en   \n",
      "2         spy based on novel secret agent sequel mi6                en   \n",
      "3  dc comics crime fighter terrorist secret ident...                en   \n",
      "4  based on novel mars medallion space travel pri...                en   \n",
      "\n",
      "                             original_title  \\\n",
      "0                                    Avatar   \n",
      "1  Pirates of the Caribbean: At World's End   \n",
      "2                                   Spectre   \n",
      "3                     The Dark Knight Rises   \n",
      "4                               John Carter   \n",
      "\n",
      "                                            overview  popularity  ... runtime  \\\n",
      "0  In the 22nd century, a paraplegic Marine is di...  150.437577  ...   162.0   \n",
      "1  Captain Barbossa, long believed to be dead, ha...  139.082615  ...   169.0   \n",
      "2  A cryptic message from Bond’s past sends him o...  107.376788  ...   148.0   \n",
      "3  Following the death of District Attorney Harve...  112.312950  ...   165.0   \n",
      "4  John Carter is a war-weary, former military ca...   43.926995  ...   132.0   \n",
      "\n",
      "                                    spoken_languages    status  \\\n",
      "0  [{\"iso_639_1\": \"en\", \"name\": \"English\"}, {\"iso...  Released   \n",
      "1           [{\"iso_639_1\": \"en\", \"name\": \"English\"}]  Released   \n",
      "2  [{\"iso_639_1\": \"fr\", \"name\": \"Fran\\u00e7ais\"},...  Released   \n",
      "3           [{\"iso_639_1\": \"en\", \"name\": \"English\"}]  Released   \n",
      "4           [{\"iso_639_1\": \"en\", \"name\": \"English\"}]  Released   \n",
      "\n",
      "                                          tagline  \\\n",
      "0                     Enter the World of Pandora.   \n",
      "1  At the end of the world, the adventure begins.   \n",
      "2                           A Plan No One Escapes   \n",
      "3                                 The Legend Ends   \n",
      "4            Lost in our world, found in another.   \n",
      "\n",
      "                                      title vote_average vote_count  \\\n",
      "0                                    Avatar          7.2      11800   \n",
      "1  Pirates of the Caribbean: At World's End          6.9       4500   \n",
      "2                                   Spectre          6.3       4466   \n",
      "3                     The Dark Knight Rises          7.6       9106   \n",
      "4                               John Carter          6.1       2124   \n",
      "\n",
      "                                                cast  \\\n",
      "0  Sam Worthington Zoe Saldana Sigourney Weaver S...   \n",
      "1  Johnny Depp Orlando Bloom Keira Knightley Stel...   \n",
      "2  Daniel Craig Christoph Waltz L\\u00e9a Seydoux ...   \n",
      "3  Christian Bale Michael Caine Gary Oldman Anne ...   \n",
      "4  Taylor Kitsch Lynn Collins Samantha Morton Wil...   \n",
      "\n",
      "                                                crew           director  \n",
      "0  [{'name': 'Stephen E. Rivkin', 'gender': 0, 'd...      James Cameron  \n",
      "1  [{'name': 'Dariusz Wolski', 'gender': 2, 'depa...     Gore Verbinski  \n",
      "2  [{'name': 'Thomas Newman', 'gender': 2, 'depar...         Sam Mendes  \n",
      "3  [{'name': 'Hans Zimmer', 'gender': 2, 'departm...  Christopher Nolan  \n",
      "4  [{'name': 'Andrew Stanton', 'gender': 2, 'depa...     Andrew Stanton  \n",
      "\n",
      "[5 rows x 24 columns]\n"
     ]
    }
   ],
   "source": [
    "# Read the dataset\n",
    "df = pd.read_csv(\"data/movie_dataset.csv\")\n",
    "\n",
    "# Display basic information about the dataset\n",
    "df.info()\n",
    "\n",
    "# Display first few rows of the dataset\n",
    "print(df.head())"
   ]
  },
  {
   "cell_type": "code",
   "execution_count": 3,
   "metadata": {},
   "outputs": [
    {
     "name": "stdout",
     "output_type": "stream",
     "text": [
      "Raw duplicates: 0\n",
      "Duplicated ID: 0\n",
      "Duplicated Title: 2\n"
     ]
    }
   ],
   "source": [
    "# Check for duplicates\n",
    "print(\"Raw duplicates:\", df.duplicated().sum())\n",
    "print(\"Duplicated ID:\",df['id'].duplicated().sum())\n",
    "print(\"Duplicated Title:\", df['original_title'].duplicated().sum())\n"
   ]
  },
  {
   "cell_type": "code",
   "execution_count": 4,
   "metadata": {},
   "outputs": [
    {
     "data": {
      "text/html": [
       "<div>\n",
       "<style scoped>\n",
       "    .dataframe tbody tr th:only-of-type {\n",
       "        vertical-align: middle;\n",
       "    }\n",
       "\n",
       "    .dataframe tbody tr th {\n",
       "        vertical-align: top;\n",
       "    }\n",
       "\n",
       "    .dataframe thead th {\n",
       "        text-align: right;\n",
       "    }\n",
       "</style>\n",
       "<table border=\"1\" class=\"dataframe\">\n",
       "  <thead>\n",
       "    <tr style=\"text-align: right;\">\n",
       "      <th></th>\n",
       "      <th>index</th>\n",
       "      <th>budget</th>\n",
       "      <th>id</th>\n",
       "      <th>popularity</th>\n",
       "      <th>revenue</th>\n",
       "      <th>runtime</th>\n",
       "      <th>vote_average</th>\n",
       "      <th>vote_count</th>\n",
       "      <th>n_null</th>\n",
       "    </tr>\n",
       "  </thead>\n",
       "  <tbody>\n",
       "    <tr>\n",
       "      <th>count</th>\n",
       "      <td>500.000000</td>\n",
       "      <td>5.000000e+02</td>\n",
       "      <td>500.000000</td>\n",
       "      <td>500.000000</td>\n",
       "      <td>5.000000e+02</td>\n",
       "      <td>500.000000</td>\n",
       "      <td>500.000000</td>\n",
       "      <td>500.000000</td>\n",
       "      <td>500.0</td>\n",
       "    </tr>\n",
       "    <tr>\n",
       "      <th>mean</th>\n",
       "      <td>1937.246000</td>\n",
       "      <td>2.714902e+07</td>\n",
       "      <td>60997.674000</td>\n",
       "      <td>28.754919</td>\n",
       "      <td>8.567242e+07</td>\n",
       "      <td>108.004000</td>\n",
       "      <td>6.283800</td>\n",
       "      <td>959.378000</td>\n",
       "      <td>0.0</td>\n",
       "    </tr>\n",
       "    <tr>\n",
       "      <th>std</th>\n",
       "      <td>936.987056</td>\n",
       "      <td>1.765918e+07</td>\n",
       "      <td>89595.122879</td>\n",
       "      <td>22.492237</td>\n",
       "      <td>1.547470e+08</td>\n",
       "      <td>16.920419</td>\n",
       "      <td>0.913009</td>\n",
       "      <td>1195.672809</td>\n",
       "      <td>0.0</td>\n",
       "    </tr>\n",
       "    <tr>\n",
       "      <th>min</th>\n",
       "      <td>0.000000</td>\n",
       "      <td>0.000000e+00</td>\n",
       "      <td>28.000000</td>\n",
       "      <td>0.126676</td>\n",
       "      <td>0.000000e+00</td>\n",
       "      <td>63.000000</td>\n",
       "      <td>1.900000</td>\n",
       "      <td>4.000000</td>\n",
       "      <td>0.0</td>\n",
       "    </tr>\n",
       "    <tr>\n",
       "      <th>25%</th>\n",
       "      <td>1332.000000</td>\n",
       "      <td>2.000000e+07</td>\n",
       "      <td>7263.500000</td>\n",
       "      <td>13.361109</td>\n",
       "      <td>1.550972e+07</td>\n",
       "      <td>96.000000</td>\n",
       "      <td>5.800000</td>\n",
       "      <td>243.000000</td>\n",
       "      <td>0.0</td>\n",
       "    </tr>\n",
       "    <tr>\n",
       "      <th>50%</th>\n",
       "      <td>1702.000000</td>\n",
       "      <td>2.800000e+07</td>\n",
       "      <td>21341.500000</td>\n",
       "      <td>23.719995</td>\n",
       "      <td>5.088927e+07</td>\n",
       "      <td>107.000000</td>\n",
       "      <td>6.400000</td>\n",
       "      <td>572.000000</td>\n",
       "      <td>0.0</td>\n",
       "    </tr>\n",
       "    <tr>\n",
       "      <th>75%</th>\n",
       "      <td>2163.250000</td>\n",
       "      <td>3.600000e+07</td>\n",
       "      <td>63000.750000</td>\n",
       "      <td>37.126731</td>\n",
       "      <td>1.045929e+08</td>\n",
       "      <td>118.000000</td>\n",
       "      <td>6.900000</td>\n",
       "      <td>1127.750000</td>\n",
       "      <td>0.0</td>\n",
       "    </tr>\n",
       "    <tr>\n",
       "      <th>max</th>\n",
       "      <td>4773.000000</td>\n",
       "      <td>2.370000e+08</td>\n",
       "      <td>385383.000000</td>\n",
       "      <td>150.437577</td>\n",
       "      <td>2.787965e+09</td>\n",
       "      <td>195.000000</td>\n",
       "      <td>8.300000</td>\n",
       "      <td>11800.000000</td>\n",
       "      <td>0.0</td>\n",
       "    </tr>\n",
       "  </tbody>\n",
       "</table>\n",
       "</div>"
      ],
      "text/plain": [
       "             index        budget             id  popularity       revenue  \\\n",
       "count   500.000000  5.000000e+02     500.000000  500.000000  5.000000e+02   \n",
       "mean   1937.246000  2.714902e+07   60997.674000   28.754919  8.567242e+07   \n",
       "std     936.987056  1.765918e+07   89595.122879   22.492237  1.547470e+08   \n",
       "min       0.000000  0.000000e+00      28.000000    0.126676  0.000000e+00   \n",
       "25%    1332.000000  2.000000e+07    7263.500000   13.361109  1.550972e+07   \n",
       "50%    1702.000000  2.800000e+07   21341.500000   23.719995  5.088927e+07   \n",
       "75%    2163.250000  3.600000e+07   63000.750000   37.126731  1.045929e+08   \n",
       "max    4773.000000  2.370000e+08  385383.000000  150.437577  2.787965e+09   \n",
       "\n",
       "          runtime  vote_average    vote_count  n_null  \n",
       "count  500.000000    500.000000    500.000000   500.0  \n",
       "mean   108.004000      6.283800    959.378000     0.0  \n",
       "std     16.920419      0.913009   1195.672809     0.0  \n",
       "min     63.000000      1.900000      4.000000     0.0  \n",
       "25%     96.000000      5.800000    243.000000     0.0  \n",
       "50%    107.000000      6.400000    572.000000     0.0  \n",
       "75%    118.000000      6.900000   1127.750000     0.0  \n",
       "max    195.000000      8.300000  11800.000000     0.0  "
      ]
     },
     "execution_count": 4,
     "metadata": {},
     "output_type": "execute_result"
    }
   ],
   "source": [
    "# Reduce the dataset to meet the requirements of around 500 rows\n",
    "# We want to keep the rows that provide most information\n",
    "# For that purpose, we will prioritize movies which less nan values over the columns\n",
    "df['n_null'] = df.isnull().sum(axis=1)\n",
    "df.sort_values(by = 'n_null', ascending=True, inplace=True)\n",
    "df = df.head(500)\n",
    "df.describe()"
   ]
  },
  {
   "cell_type": "code",
   "execution_count": 5,
   "metadata": {},
   "outputs": [
    {
     "name": "stdout",
     "output_type": "stream",
     "text": [
      "Two policemen must join forces to take on an international drug- smuggling gang - one, an unorthodox Irish policeman and the other, a straitlaced FBI agent. Sergeant Gerry Boyle is an eccentric small-town cop with a confrontational and crass personality and a subversive sense of humor. A longtime policeman in County Galway, Boyle is a maverick with his own moral code. He has seen enough of the world to know there isn't much to it and has had plenty of time to think about it. When a fellow police officer disappears and Boyle's small town becomes key to a large drug trafficking investigation, he is forced to at least feign interest when dealing with the humorless FBI agent Wendell Everett assigned to the case.\n",
      "In 1987, five young men, using brutally honest rhymes and hardcore beats, put their frustration and anger about life in the most dangerous place in America into the most powerful weapon they had: their music.  Taking us back to where it all began, Straight Outta Compton tells the true story of how these cultural rebels—armed only with their lyrics, swagger, bravado and raw talent—stood up to the authorities that meant to keep them down and formed the world’s most dangerous group, N.W.A.  And as they spoke the truth that no one had before and exposed life in the hood, their voice ignited a social revolution that is still reverberating today.\n",
      "Pot growers Ben and Chon face off against the Mexican drug cartel who kidnapped their shared girlfriend.\n",
      "After denying a woman the extension she needs to keep her home, loan officer Christine Brown sees her once-promising life take a startling turn for the worse. Christine is convinced she's been cursed by a Gypsy, but her boyfriend is skeptical. Her only hope seems to lie in a psychic who claims he can help her lift the curse and keep her soul from being dragged straight to hell.\n",
      "While attending a party at James Franco's house, Seth Rogen, Jay Baruchel and many other celebrities are faced with the apocalypse.\n"
     ]
    }
   ],
   "source": [
    "# Explor overview content\n",
    "for idx,row in df.sample(5).iterrows():\n",
    "    print(row['overview'])\n"
   ]
  },
  {
   "cell_type": "code",
   "execution_count": 6,
   "metadata": {},
   "outputs": [
    {
     "data": {
      "text/plain": [
       "Index(['index', 'budget', 'genres', 'homepage', 'id', 'keywords',\n",
       "       'original_language', 'original_title', 'overview', 'popularity',\n",
       "       'production_companies', 'production_countries', 'release_date',\n",
       "       'revenue', 'runtime', 'spoken_languages', 'status', 'tagline', 'title',\n",
       "       'vote_average', 'vote_count', 'cast', 'crew', 'director', 'n_null'],\n",
       "      dtype='object')"
      ]
     },
     "execution_count": 6,
     "metadata": {},
     "output_type": "execute_result"
    }
   ],
   "source": [
    "df.columns"
   ]
  },
  {
   "cell_type": "code",
   "execution_count": 7,
   "metadata": {},
   "outputs": [
    {
     "name": "stdout",
     "output_type": "stream",
     "text": [
      "Column: genres\n",
      "genres\n",
      "Drama                        42\n",
      "Comedy                       33\n",
      "Drama Romance                16\n",
      "Comedy Romance               13\n",
      "Horror Thriller              12\n",
      "                             ..\n",
      "Crime Drama                   1\n",
      "Drama Mystery Crime           1\n",
      "Action Comedy Romance         1\n",
      "Thriller Action Crime         1\n",
      "Action Comedy Crime Drama     1\n",
      "Name: count, Length: 237, dtype: int64\n",
      "**************************************************\n",
      "Column: original_language\n",
      "original_language\n",
      "en    482\n",
      "zh      5\n",
      "fr      4\n",
      "ru      1\n",
      "fa      1\n",
      "el      1\n",
      "ja      1\n",
      "cn      1\n",
      "ko      1\n",
      "hi      1\n",
      "de      1\n",
      "pt      1\n",
      "Name: count, dtype: int64\n",
      "**************************************************\n",
      "Column: spoken_languages\n",
      "spoken_languages\n",
      "[{\"iso_639_1\": \"en\", \"name\": \"English\"}]                                                                                                                                           341\n",
      "[{\"iso_639_1\": \"en\", \"name\": \"English\"}, {\"iso_639_1\": \"es\", \"name\": \"Espa\\u00f1ol\"}]                                                                                               19\n",
      "[{\"iso_639_1\": \"en\", \"name\": \"English\"}, {\"iso_639_1\": \"fr\", \"name\": \"Fran\\u00e7ais\"}]                                                                                              12\n",
      "[{\"iso_639_1\": \"es\", \"name\": \"Espa\\u00f1ol\"}, {\"iso_639_1\": \"en\", \"name\": \"English\"}]                                                                                                6\n",
      "[{\"iso_639_1\": \"ru\", \"name\": \"P\\u0443\\u0441\\u0441\\u043a\\u0438\\u0439\"}, {\"iso_639_1\": \"en\", \"name\": \"English\"}]                                                                       5\n",
      "                                                                                                                                                                                  ... \n",
      "[{\"iso_639_1\": \"sw\", \"name\": \"Kiswahili\"}, {\"iso_639_1\": \"en\", \"name\": \"English\"}, {\"iso_639_1\": \"de\", \"name\": \"Deutsch\"}, {\"iso_639_1\": \"vi\", \"name\": \"Ti\\u1ebfng Vi\\u1ec7t\"}]      1\n",
      "[{\"iso_639_1\": \"el\", \"name\": \"\\u03b5\\u03bb\\u03bb\\u03b7\\u03bd\\u03b9\\u03ba\\u03ac\"}]                                                                                                    1\n",
      "[{\"iso_639_1\": \"en\", \"name\": \"English\"}, {\"iso_639_1\": \"zh\", \"name\": \"\\u666e\\u901a\\u8bdd\"}]                                                                                          1\n",
      "[{\"iso_639_1\": \"pt\", \"name\": \"Portugu\\u00eas\"}, {\"iso_639_1\": \"en\", \"name\": \"English\"}]                                                                                              1\n",
      "[{\"iso_639_1\": \"pt\", \"name\": \"Portugu\\u00eas\"}]                                                                                                                                      1\n",
      "Name: count, Length: 101, dtype: int64\n",
      "**************************************************\n"
     ]
    }
   ],
   "source": [
    "# Explore content/ format of columns\n",
    "for col in ['genres','original_language','spoken_languages']:\n",
    "    print(\"Column:\",col)\n",
    "    print(df[col].value_counts(dropna=False))\n",
    "    print('*'*50)"
   ]
  },
  {
   "cell_type": "code",
   "execution_count": 8,
   "metadata": {},
   "outputs": [],
   "source": [
    "# Function to extract and process language names\n",
    "def extract_languages(json_string):\n",
    "    languages = json.loads(json_string)  # Parse JSON string\n",
    "    return ','.join([lang['name'].lower().replace('ñ','n').replace('ê','e') for lang in languages] ) # Extract and lowercase names"
   ]
  },
  {
   "cell_type": "code",
   "execution_count": 9,
   "metadata": {},
   "outputs": [],
   "source": [
    "# Clean Spoken languages\n",
    "df['spoken_languages_processed'] = df['spoken_languages'].apply(extract_languages)"
   ]
  },
  {
   "cell_type": "code",
   "execution_count": 10,
   "metadata": {},
   "outputs": [
    {
     "data": {
      "text/plain": [
       "0             english,espanol\n",
       "1893                  english\n",
       "1892                  english\n",
       "1888    english,deutsch,norsk\n",
       "1884                  english\n",
       "                ...          \n",
       "4347                  english\n",
       "4348                  english\n",
       "3418                  english\n",
       "3417                portugues\n",
       "3416                  english\n",
       "Name: spoken_languages_processed, Length: 500, dtype: object"
      ]
     },
     "execution_count": 10,
     "metadata": {},
     "output_type": "execute_result"
    }
   ],
   "source": [
    "df['spoken_languages_processed']"
   ]
  },
  {
   "cell_type": "code",
   "execution_count": null,
   "metadata": {},
   "outputs": [],
   "source": []
  },
  {
   "cell_type": "markdown",
   "metadata": {},
   "source": [
    "## First Approach: TF-IDF and cosine similarity\n",
    "In this version we will consider the basic similarity approach between the user query and some representative information from the movie\n",
    "For that purpose we will pick some features that may help to provide further information about the movide\n",
    "So we can recommend movies that match the user query"
   ]
  },
  {
   "cell_type": "code",
   "execution_count": 11,
   "metadata": {},
   "outputs": [],
   "source": [
    "\n",
    "## Based on the exploration , we consider that the columns 'genres', 'spoken_languages', 'keywords' and 'overview' can provide good information that can help\n",
    "# Merge all text-based columns into one\n",
    "df[\"combined_features\"] = (\"Genres: \"+\n",
    "    df[\"genres\"].str.lower() + \" \\nLanguages: \" +\n",
    "    df[\"spoken_languages_processed\"] + \" \\nKeywords:\" +\n",
    "    df[\"keywords\"].str.lower() + \" \\nOverview\" +\n",
    "    df[\"overview\"].str.lower()\n",
    ")"
   ]
  },
  {
   "cell_type": "code",
   "execution_count": 12,
   "metadata": {},
   "outputs": [
    {
     "data": {
      "text/plain": [
       "0       Genres: action adventure fantasy science ficti...\n",
       "1893    Genres: fantasy horror thriller \\nLanguages: e...\n",
       "1892    Genres: action adventure crime mystery thrille...\n",
       "1888    Genres: comedy drama history \\nLanguages: engl...\n",
       "1884    Genres: thriller crime drama \\nLanguages: engl...\n",
       "                              ...                        \n",
       "4347    Genres: thriller horror \\nLanguages: english \\...\n",
       "4348    Genres: comedy drama thriller \\nLanguages: eng...\n",
       "3418    Genres: horror \\nLanguages: english \\nKeywords...\n",
       "3417    Genres: drama action crime \\nLanguages: portug...\n",
       "3416    Genres: action comedy crime drama \\nLanguages:...\n",
       "Name: combined_features, Length: 500, dtype: object"
      ]
     },
     "execution_count": 12,
     "metadata": {},
     "output_type": "execute_result"
    }
   ],
   "source": [
    "df[\"combined_features\"]"
   ]
  },
  {
   "cell_type": "code",
   "execution_count": 13,
   "metadata": {},
   "outputs": [],
   "source": [
    "# Function to compute cosine similarity and return top recommendations\n",
    "def get_recommendations(query, df, tfidf_vectorizer, tfidf_matrix, top_n=5):\n",
    "    query_tfidf = tfidf_vectorizer.transform([query])\n",
    "    cosine_similarities = cosine_similarity(query_tfidf, tfidf_matrix).flatten()\n",
    "    top_indices = cosine_similarities.argsort()[-top_n:][::-1]\n",
    "    return df.iloc[top_indices][['title', 'overview', 'popularity']]"
   ]
  },
  {
   "cell_type": "code",
   "execution_count": 14,
   "metadata": {},
   "outputs": [],
   "source": [
    "# Compute TF-IDF for the 'overview' column\n",
    "tfidf_vectorizer = TfidfVectorizer(stop_words='english')\n",
    "tfidf_matrix = tfidf_vectorizer.fit_transform(df['combined_features'])"
   ]
  },
  {
   "cell_type": "markdown",
   "metadata": {},
   "source": [
    "### Run some examples:"
   ]
  },
  {
   "cell_type": "code",
   "execution_count": 15,
   "metadata": {},
   "outputs": [
    {
     "data": {
      "text/html": [
       "<div>\n",
       "<style scoped>\n",
       "    .dataframe tbody tr th:only-of-type {\n",
       "        vertical-align: middle;\n",
       "    }\n",
       "\n",
       "    .dataframe tbody tr th {\n",
       "        vertical-align: top;\n",
       "    }\n",
       "\n",
       "    .dataframe thead th {\n",
       "        text-align: right;\n",
       "    }\n",
       "</style>\n",
       "<table border=\"1\" class=\"dataframe\">\n",
       "  <thead>\n",
       "    <tr style=\"text-align: right;\">\n",
       "      <th></th>\n",
       "      <th>title</th>\n",
       "      <th>overview</th>\n",
       "      <th>popularity</th>\n",
       "    </tr>\n",
       "  </thead>\n",
       "  <tbody>\n",
       "    <tr>\n",
       "      <th>1531</th>\n",
       "      <td>Moonraker</td>\n",
       "      <td>During the transportation of a Space Shuttle a...</td>\n",
       "      <td>29.887404</td>\n",
       "    </tr>\n",
       "    <tr>\n",
       "      <th>1354</th>\n",
       "      <td>Space Chimps</td>\n",
       "      <td>Circus monkey Ham III works in a circus where ...</td>\n",
       "      <td>6.293217</td>\n",
       "    </tr>\n",
       "    <tr>\n",
       "      <th>0</th>\n",
       "      <td>Avatar</td>\n",
       "      <td>In the 22nd century, a paraplegic Marine is di...</td>\n",
       "      <td>150.437577</td>\n",
       "    </tr>\n",
       "    <tr>\n",
       "      <th>2198</th>\n",
       "      <td>Lockout</td>\n",
       "      <td>Set in the near future, Lockout follows a fals...</td>\n",
       "      <td>35.232278</td>\n",
       "    </tr>\n",
       "    <tr>\n",
       "      <th>4606</th>\n",
       "      <td>Tupac: Resurrection</td>\n",
       "      <td>Home movies, photographs, and recited poetry i...</td>\n",
       "      <td>1.314576</td>\n",
       "    </tr>\n",
       "  </tbody>\n",
       "</table>\n",
       "</div>"
      ],
      "text/plain": [
       "                    title                                           overview  \\\n",
       "1531            Moonraker  During the transportation of a Space Shuttle a...   \n",
       "1354         Space Chimps  Circus monkey Ham III works in a circus where ...   \n",
       "0                  Avatar  In the 22nd century, a paraplegic Marine is di...   \n",
       "2198              Lockout  Set in the near future, Lockout follows a fals...   \n",
       "4606  Tupac: Resurrection  Home movies, photographs, and recited poetry i...   \n",
       "\n",
       "      popularity  \n",
       "1531   29.887404  \n",
       "1354    6.293217  \n",
       "0     150.437577  \n",
       "2198   35.232278  \n",
       "4606    1.314576  "
      ]
     },
     "execution_count": 15,
     "metadata": {},
     "output_type": "execute_result"
    }
   ],
   "source": [
    "query_example_1 = \"I like action movies set in space\"\n",
    "get_recommendations(query_example_1,df,tfidf_vectorizer,tfidf_matrix)"
   ]
  },
  {
   "cell_type": "code",
   "execution_count": 16,
   "metadata": {},
   "outputs": [
    {
     "data": {
      "text/html": [
       "<div>\n",
       "<style scoped>\n",
       "    .dataframe tbody tr th:only-of-type {\n",
       "        vertical-align: middle;\n",
       "    }\n",
       "\n",
       "    .dataframe tbody tr th {\n",
       "        vertical-align: top;\n",
       "    }\n",
       "\n",
       "    .dataframe thead th {\n",
       "        text-align: right;\n",
       "    }\n",
       "</style>\n",
       "<table border=\"1\" class=\"dataframe\">\n",
       "  <thead>\n",
       "    <tr style=\"text-align: right;\">\n",
       "      <th></th>\n",
       "      <th>title</th>\n",
       "      <th>overview</th>\n",
       "      <th>popularity</th>\n",
       "    </tr>\n",
       "  </thead>\n",
       "  <tbody>\n",
       "    <tr>\n",
       "      <th>1531</th>\n",
       "      <td>Moonraker</td>\n",
       "      <td>During the transportation of a Space Shuttle a...</td>\n",
       "      <td>29.887404</td>\n",
       "    </tr>\n",
       "    <tr>\n",
       "      <th>1354</th>\n",
       "      <td>Space Chimps</td>\n",
       "      <td>Circus monkey Ham III works in a circus where ...</td>\n",
       "      <td>6.293217</td>\n",
       "    </tr>\n",
       "    <tr>\n",
       "      <th>0</th>\n",
       "      <td>Avatar</td>\n",
       "      <td>In the 22nd century, a paraplegic Marine is di...</td>\n",
       "      <td>150.437577</td>\n",
       "    </tr>\n",
       "    <tr>\n",
       "      <th>2198</th>\n",
       "      <td>Lockout</td>\n",
       "      <td>Set in the near future, Lockout follows a fals...</td>\n",
       "      <td>35.232278</td>\n",
       "    </tr>\n",
       "    <tr>\n",
       "      <th>4606</th>\n",
       "      <td>Tupac: Resurrection</td>\n",
       "      <td>Home movies, photographs, and recited poetry i...</td>\n",
       "      <td>1.314576</td>\n",
       "    </tr>\n",
       "  </tbody>\n",
       "</table>\n",
       "</div>"
      ],
      "text/plain": [
       "                    title                                           overview  \\\n",
       "1531            Moonraker  During the transportation of a Space Shuttle a...   \n",
       "1354         Space Chimps  Circus monkey Ham III works in a circus where ...   \n",
       "0                  Avatar  In the 22nd century, a paraplegic Marine is di...   \n",
       "2198              Lockout  Set in the near future, Lockout follows a fals...   \n",
       "4606  Tupac: Resurrection  Home movies, photographs, and recited poetry i...   \n",
       "\n",
       "      popularity  \n",
       "1531   29.887404  \n",
       "1354    6.293217  \n",
       "0     150.437577  \n",
       "2198   35.232278  \n",
       "4606    1.314576  "
      ]
     },
     "execution_count": 16,
     "metadata": {},
     "output_type": "execute_result"
    }
   ],
   "source": [
    "query_example_2 = \"I like action movies but never in the space\"\n",
    "get_recommendations(query_example_2,df,tfidf_vectorizer,tfidf_matrix)"
   ]
  },
  {
   "cell_type": "code",
   "execution_count": 17,
   "metadata": {},
   "outputs": [
    {
     "data": {
      "text/html": [
       "<div>\n",
       "<style scoped>\n",
       "    .dataframe tbody tr th:only-of-type {\n",
       "        vertical-align: middle;\n",
       "    }\n",
       "\n",
       "    .dataframe tbody tr th {\n",
       "        vertical-align: top;\n",
       "    }\n",
       "\n",
       "    .dataframe thead th {\n",
       "        text-align: right;\n",
       "    }\n",
       "</style>\n",
       "<table border=\"1\" class=\"dataframe\">\n",
       "  <thead>\n",
       "    <tr style=\"text-align: right;\">\n",
       "      <th></th>\n",
       "      <th>title</th>\n",
       "      <th>overview</th>\n",
       "      <th>popularity</th>\n",
       "    </tr>\n",
       "  </thead>\n",
       "  <tbody>\n",
       "    <tr>\n",
       "      <th>2238</th>\n",
       "      <td>Bandslam</td>\n",
       "      <td>A high school social outcast and the popular g...</td>\n",
       "      <td>7.716606</td>\n",
       "    </tr>\n",
       "    <tr>\n",
       "      <th>4606</th>\n",
       "      <td>Tupac: Resurrection</td>\n",
       "      <td>Home movies, photographs, and recited poetry i...</td>\n",
       "      <td>1.314576</td>\n",
       "    </tr>\n",
       "    <tr>\n",
       "      <th>1874</th>\n",
       "      <td>August Rush</td>\n",
       "      <td>A drama with fairy tale elements, where an orp...</td>\n",
       "      <td>29.533437</td>\n",
       "    </tr>\n",
       "    <tr>\n",
       "      <th>1695</th>\n",
       "      <td>Aladdin</td>\n",
       "      <td>Princess Jasmine grows tired of being forced t...</td>\n",
       "      <td>92.982009</td>\n",
       "    </tr>\n",
       "    <tr>\n",
       "      <th>1080</th>\n",
       "      <td>Across the Universe</td>\n",
       "      <td>Musical based on The Beatles songbook and set ...</td>\n",
       "      <td>11.872841</td>\n",
       "    </tr>\n",
       "  </tbody>\n",
       "</table>\n",
       "</div>"
      ],
      "text/plain": [
       "                    title                                           overview  \\\n",
       "2238             Bandslam  A high school social outcast and the popular g...   \n",
       "4606  Tupac: Resurrection  Home movies, photographs, and recited poetry i...   \n",
       "1874          August Rush  A drama with fairy tale elements, where an orp...   \n",
       "1695              Aladdin  Princess Jasmine grows tired of being forced t...   \n",
       "1080  Across the Universe  Musical based on The Beatles songbook and set ...   \n",
       "\n",
       "      popularity  \n",
       "2238    7.716606  \n",
       "4606    1.314576  \n",
       "1874   29.533437  \n",
       "1695   92.982009  \n",
       "1080   11.872841  "
      ]
     },
     "execution_count": 17,
     "metadata": {},
     "output_type": "execute_result"
    }
   ],
   "source": [
    "query_example_3 = \"I love musical funny movies\"\n",
    "get_recommendations(query_example_3,df,tfidf_vectorizer,tfidf_matrix)"
   ]
  },
  {
   "cell_type": "markdown",
   "metadata": {},
   "source": [
    "## Second Approach: Use embeddings\n"
   ]
  },
  {
   "cell_type": "code",
   "execution_count": 18,
   "metadata": {},
   "outputs": [
    {
     "name": "stderr",
     "output_type": "stream",
     "text": [
      "/Users/anthonyruizcalvo/Documents/Applications/lumaa-spring-2025-ai-ml/.venv/lib/python3.9/site-packages/tqdm/auto.py:21: TqdmWarning: IProgress not found. Please update jupyter and ipywidgets. See https://ipywidgets.readthedocs.io/en/stable/user_install.html\n",
      "  from .autonotebook import tqdm as notebook_tqdm\n"
     ]
    }
   ],
   "source": [
    "# Convert embeddings to a NumPy array for similarity computation  \n",
    "# Compute embeddings for each movie\n",
    "embeddings = HuggingFaceEmbeddings(model_name=\"sentence-transformers/all-mpnet-base-v2\")\n",
    "df[\"embedding\"] = df[\"combined_features\"].apply(lambda text: embeddings.embed_query(text))\n",
    "embedding_matrix = np.vstack(df[\"embedding\"].values)"
   ]
  },
  {
   "cell_type": "code",
   "execution_count": 19,
   "metadata": {},
   "outputs": [],
   "source": [
    "# Function to find similar movies\n",
    "def find_similar_movies(query, top_n=5):\n",
    "    query_embedding = np.array(embeddings.embed_query(query)).reshape(1, -1)\n",
    "    similarities = cosine_similarity(query_embedding, embedding_matrix)[0]\n",
    "    df[\"similarity\"] = similarities  # Store similarity scores\n",
    "    top_movies = df.sort_values(by=\"similarity\", ascending=False).head(top_n)\n",
    "    \n",
    "    return top_movies[[\"title\", \"similarity\", \"combined_features\"]]\n",
    "\n"
   ]
  },
  {
   "cell_type": "markdown",
   "metadata": {},
   "source": [
    "### Run some examples:"
   ]
  },
  {
   "cell_type": "code",
   "execution_count": 20,
   "metadata": {},
   "outputs": [
    {
     "data": {
      "text/html": [
       "<div>\n",
       "<style scoped>\n",
       "    .dataframe tbody tr th:only-of-type {\n",
       "        vertical-align: middle;\n",
       "    }\n",
       "\n",
       "    .dataframe tbody tr th {\n",
       "        vertical-align: top;\n",
       "    }\n",
       "\n",
       "    .dataframe thead th {\n",
       "        text-align: right;\n",
       "    }\n",
       "</style>\n",
       "<table border=\"1\" class=\"dataframe\">\n",
       "  <thead>\n",
       "    <tr style=\"text-align: right;\">\n",
       "      <th></th>\n",
       "      <th>title</th>\n",
       "      <th>similarity</th>\n",
       "      <th>combined_features</th>\n",
       "    </tr>\n",
       "  </thead>\n",
       "  <tbody>\n",
       "    <tr>\n",
       "      <th>1319</th>\n",
       "      <td>Riddick</td>\n",
       "      <td>0.428826</td>\n",
       "      <td>Genres: science fiction action thriller \\nLang...</td>\n",
       "    </tr>\n",
       "    <tr>\n",
       "      <th>1271</th>\n",
       "      <td>Pandorum</td>\n",
       "      <td>0.425957</td>\n",
       "      <td>Genres: action horror mystery science fiction ...</td>\n",
       "    </tr>\n",
       "    <tr>\n",
       "      <th>1198</th>\n",
       "      <td>Escape from Planet Earth</td>\n",
       "      <td>0.412677</td>\n",
       "      <td>Genres: animation comedy adventure family scie...</td>\n",
       "    </tr>\n",
       "    <tr>\n",
       "      <th>2194</th>\n",
       "      <td>Disaster Movie</td>\n",
       "      <td>0.411781</td>\n",
       "      <td>Genres: action comedy \\nLanguages: english \\nK...</td>\n",
       "    </tr>\n",
       "    <tr>\n",
       "      <th>0</th>\n",
       "      <td>Avatar</td>\n",
       "      <td>0.408533</td>\n",
       "      <td>Genres: action adventure fantasy science ficti...</td>\n",
       "    </tr>\n",
       "  </tbody>\n",
       "</table>\n",
       "</div>"
      ],
      "text/plain": [
       "                         title  similarity  \\\n",
       "1319                   Riddick    0.428826   \n",
       "1271                  Pandorum    0.425957   \n",
       "1198  Escape from Planet Earth    0.412677   \n",
       "2194            Disaster Movie    0.411781   \n",
       "0                       Avatar    0.408533   \n",
       "\n",
       "                                      combined_features  \n",
       "1319  Genres: science fiction action thriller \\nLang...  \n",
       "1271  Genres: action horror mystery science fiction ...  \n",
       "1198  Genres: animation comedy adventure family scie...  \n",
       "2194  Genres: action comedy \\nLanguages: english \\nK...  \n",
       "0     Genres: action adventure fantasy science ficti...  "
      ]
     },
     "execution_count": 20,
     "metadata": {},
     "output_type": "execute_result"
    }
   ],
   "source": [
    "query_example_1 = \"I like action movies set in space\"\n",
    "find_similar_movies(query_example_1)"
   ]
  },
  {
   "cell_type": "code",
   "execution_count": 21,
   "metadata": {},
   "outputs": [
    {
     "data": {
      "text/html": [
       "<div>\n",
       "<style scoped>\n",
       "    .dataframe tbody tr th:only-of-type {\n",
       "        vertical-align: middle;\n",
       "    }\n",
       "\n",
       "    .dataframe tbody tr th {\n",
       "        vertical-align: top;\n",
       "    }\n",
       "\n",
       "    .dataframe thead th {\n",
       "        text-align: right;\n",
       "    }\n",
       "</style>\n",
       "<table border=\"1\" class=\"dataframe\">\n",
       "  <thead>\n",
       "    <tr style=\"text-align: right;\">\n",
       "      <th></th>\n",
       "      <th>title</th>\n",
       "      <th>similarity</th>\n",
       "      <th>combined_features</th>\n",
       "    </tr>\n",
       "  </thead>\n",
       "  <tbody>\n",
       "    <tr>\n",
       "      <th>1271</th>\n",
       "      <td>Pandorum</td>\n",
       "      <td>0.416869</td>\n",
       "      <td>Genres: action horror mystery science fiction ...</td>\n",
       "    </tr>\n",
       "    <tr>\n",
       "      <th>1354</th>\n",
       "      <td>Space Chimps</td>\n",
       "      <td>0.414458</td>\n",
       "      <td>Genres: animation family \\nLanguages: english ...</td>\n",
       "    </tr>\n",
       "    <tr>\n",
       "      <th>1198</th>\n",
       "      <td>Escape from Planet Earth</td>\n",
       "      <td>0.408543</td>\n",
       "      <td>Genres: animation comedy adventure family scie...</td>\n",
       "    </tr>\n",
       "    <tr>\n",
       "      <th>1319</th>\n",
       "      <td>Riddick</td>\n",
       "      <td>0.405433</td>\n",
       "      <td>Genres: science fiction action thriller \\nLang...</td>\n",
       "    </tr>\n",
       "    <tr>\n",
       "      <th>0</th>\n",
       "      <td>Avatar</td>\n",
       "      <td>0.403620</td>\n",
       "      <td>Genres: action adventure fantasy science ficti...</td>\n",
       "    </tr>\n",
       "  </tbody>\n",
       "</table>\n",
       "</div>"
      ],
      "text/plain": [
       "                         title  similarity  \\\n",
       "1271                  Pandorum    0.416869   \n",
       "1354              Space Chimps    0.414458   \n",
       "1198  Escape from Planet Earth    0.408543   \n",
       "1319                   Riddick    0.405433   \n",
       "0                       Avatar    0.403620   \n",
       "\n",
       "                                      combined_features  \n",
       "1271  Genres: action horror mystery science fiction ...  \n",
       "1354  Genres: animation family \\nLanguages: english ...  \n",
       "1198  Genres: animation comedy adventure family scie...  \n",
       "1319  Genres: science fiction action thriller \\nLang...  \n",
       "0     Genres: action adventure fantasy science ficti...  "
      ]
     },
     "execution_count": 21,
     "metadata": {},
     "output_type": "execute_result"
    }
   ],
   "source": [
    "query_example_2 = \"I like action movies but never in the space\"\n",
    "find_similar_movies(query_example_2)"
   ]
  },
  {
   "cell_type": "code",
   "execution_count": 22,
   "metadata": {},
   "outputs": [
    {
     "data": {
      "text/html": [
       "<div>\n",
       "<style scoped>\n",
       "    .dataframe tbody tr th:only-of-type {\n",
       "        vertical-align: middle;\n",
       "    }\n",
       "\n",
       "    .dataframe tbody tr th {\n",
       "        vertical-align: top;\n",
       "    }\n",
       "\n",
       "    .dataframe thead th {\n",
       "        text-align: right;\n",
       "    }\n",
       "</style>\n",
       "<table border=\"1\" class=\"dataframe\">\n",
       "  <thead>\n",
       "    <tr style=\"text-align: right;\">\n",
       "      <th></th>\n",
       "      <th>title</th>\n",
       "      <th>similarity</th>\n",
       "      <th>combined_features</th>\n",
       "    </tr>\n",
       "  </thead>\n",
       "  <tbody>\n",
       "    <tr>\n",
       "      <th>1601</th>\n",
       "      <td>Step Up 3D</td>\n",
       "      <td>0.422445</td>\n",
       "      <td>Genres: drama romance \\nLanguages: english \\nK...</td>\n",
       "    </tr>\n",
       "    <tr>\n",
       "      <th>2136</th>\n",
       "      <td>Team America: World Police</td>\n",
       "      <td>0.418468</td>\n",
       "      <td>Genres: music adventure animation action comed...</td>\n",
       "    </tr>\n",
       "    <tr>\n",
       "      <th>2194</th>\n",
       "      <td>Disaster Movie</td>\n",
       "      <td>0.379709</td>\n",
       "      <td>Genres: action comedy \\nLanguages: english \\nK...</td>\n",
       "    </tr>\n",
       "    <tr>\n",
       "      <th>1695</th>\n",
       "      <td>Aladdin</td>\n",
       "      <td>0.379220</td>\n",
       "      <td>Genres: animation family comedy adventure fant...</td>\n",
       "    </tr>\n",
       "    <tr>\n",
       "      <th>4687</th>\n",
       "      <td>Good Dick</td>\n",
       "      <td>0.374908</td>\n",
       "      <td>Genres: comedy drama romance \\nLanguages: engl...</td>\n",
       "    </tr>\n",
       "  </tbody>\n",
       "</table>\n",
       "</div>"
      ],
      "text/plain": [
       "                           title  similarity  \\\n",
       "1601                  Step Up 3D    0.422445   \n",
       "2136  Team America: World Police    0.418468   \n",
       "2194              Disaster Movie    0.379709   \n",
       "1695                     Aladdin    0.379220   \n",
       "4687                   Good Dick    0.374908   \n",
       "\n",
       "                                      combined_features  \n",
       "1601  Genres: drama romance \\nLanguages: english \\nK...  \n",
       "2136  Genres: music adventure animation action comed...  \n",
       "2194  Genres: action comedy \\nLanguages: english \\nK...  \n",
       "1695  Genres: animation family comedy adventure fant...  \n",
       "4687  Genres: comedy drama romance \\nLanguages: engl...  "
      ]
     },
     "execution_count": 22,
     "metadata": {},
     "output_type": "execute_result"
    }
   ],
   "source": [
    "query_example_3 = \"I love musical funny movies\"\n",
    "find_similar_movies(query_example_3)"
   ]
  },
  {
   "cell_type": "markdown",
   "metadata": {},
   "source": [
    "## Save artifacts for later inference"
   ]
  },
  {
   "cell_type": "code",
   "execution_count": 23,
   "metadata": {},
   "outputs": [],
   "source": [
    "df.to_csv(\"artifacts/Processed_dataset.csv\")\n",
    "import scipy.sparse as sp\n",
    "sp.save_npz(\"artifacts/sparse_matrix.npz\", tfidf_matrix)\n",
    "\n",
    "with open('artifacts/tfidf_vectorizer.pkl', 'wb') as file:\n",
    "    pickle.dump(tfidf_vectorizer, file)"
   ]
  }
 ],
 "metadata": {
  "kernelspec": {
   "display_name": ".venv",
   "language": "python",
   "name": "python3"
  },
  "language_info": {
   "codemirror_mode": {
    "name": "ipython",
    "version": 3
   },
   "file_extension": ".py",
   "mimetype": "text/x-python",
   "name": "python",
   "nbconvert_exporter": "python",
   "pygments_lexer": "ipython3",
   "version": "3.9.6"
  }
 },
 "nbformat": 4,
 "nbformat_minor": 2
}
